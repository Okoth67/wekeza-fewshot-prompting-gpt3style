{
 "cells": [
  {
   "cell_type": "code",
   "execution_count": 2,
   "id": "9ae66b04-fb23-4d39-a2a4-625760cc53be",
   "metadata": {},
   "outputs": [],
   "source": [
    "\n",
    "!pip install transformers accelerate peft torch --quiet\n"
   ]
  },
  {
   "cell_type": "code",
   "execution_count": 3,
   "id": "adfcaeb0-6009-4c90-9ee2-704cadf940b8",
   "metadata": {},
   "outputs": [
    {
     "name": "stderr",
     "output_type": "stream",
     "text": [
      "C:\\Users\\bbollo\\AppData\\Local\\anaconda3\\envs\\wekeza\\lib\\site-packages\\tqdm\\auto.py:21: TqdmWarning: IProgress not found. Please update jupyter and ipywidgets. See https://ipywidgets.readthedocs.io/en/stable/user_install.html\n",
      "  from .autonotebook import tqdm as notebook_tqdm\n",
      "The installed version of bitsandbytes was compiled without GPU support. 8-bit optimizers and GPU quantization are unavailable.\n"
     ]
    },
    {
     "data": {
      "text/plain": [
       "GPT2LMHeadModel(\n",
       "  (transformer): GPT2Model(\n",
       "    (wte): Embedding(50257, 768)\n",
       "    (wpe): Embedding(1024, 768)\n",
       "    (drop): Dropout(p=0.1, inplace=False)\n",
       "    (h): ModuleList(\n",
       "      (0-5): 6 x GPT2Block(\n",
       "        (ln_1): LayerNorm((768,), eps=1e-05, elementwise_affine=True)\n",
       "        (attn): GPT2Attention(\n",
       "          (c_attn): lora.Linear(\n",
       "            (base_layer): Conv1D(nf=2304, nx=768)\n",
       "            (lora_dropout): ModuleDict(\n",
       "              (default): Dropout(p=0.05, inplace=False)\n",
       "            )\n",
       "            (lora_A): ModuleDict(\n",
       "              (default): Linear(in_features=768, out_features=8, bias=False)\n",
       "            )\n",
       "            (lora_B): ModuleDict(\n",
       "              (default): Linear(in_features=8, out_features=2304, bias=False)\n",
       "            )\n",
       "            (lora_embedding_A): ParameterDict()\n",
       "            (lora_embedding_B): ParameterDict()\n",
       "            (lora_magnitude_vector): ModuleDict()\n",
       "          )\n",
       "          (c_proj): lora.Linear(\n",
       "            (base_layer): Conv1D(nf=768, nx=768)\n",
       "            (lora_dropout): ModuleDict(\n",
       "              (default): Dropout(p=0.05, inplace=False)\n",
       "            )\n",
       "            (lora_A): ModuleDict(\n",
       "              (default): Linear(in_features=768, out_features=8, bias=False)\n",
       "            )\n",
       "            (lora_B): ModuleDict(\n",
       "              (default): Linear(in_features=8, out_features=768, bias=False)\n",
       "            )\n",
       "            (lora_embedding_A): ParameterDict()\n",
       "            (lora_embedding_B): ParameterDict()\n",
       "            (lora_magnitude_vector): ModuleDict()\n",
       "          )\n",
       "          (attn_dropout): Dropout(p=0.1, inplace=False)\n",
       "          (resid_dropout): Dropout(p=0.1, inplace=False)\n",
       "        )\n",
       "        (ln_2): LayerNorm((768,), eps=1e-05, elementwise_affine=True)\n",
       "        (mlp): GPT2MLP(\n",
       "          (c_fc): Conv1D(nf=3072, nx=768)\n",
       "          (c_proj): lora.Linear(\n",
       "            (base_layer): Conv1D(nf=768, nx=3072)\n",
       "            (lora_dropout): ModuleDict(\n",
       "              (default): Dropout(p=0.05, inplace=False)\n",
       "            )\n",
       "            (lora_A): ModuleDict(\n",
       "              (default): Linear(in_features=3072, out_features=8, bias=False)\n",
       "            )\n",
       "            (lora_B): ModuleDict(\n",
       "              (default): Linear(in_features=8, out_features=768, bias=False)\n",
       "            )\n",
       "            (lora_embedding_A): ParameterDict()\n",
       "            (lora_embedding_B): ParameterDict()\n",
       "            (lora_magnitude_vector): ModuleDict()\n",
       "          )\n",
       "          (act): NewGELUActivation()\n",
       "          (dropout): Dropout(p=0.1, inplace=False)\n",
       "        )\n",
       "      )\n",
       "    )\n",
       "    (ln_f): LayerNorm((768,), eps=1e-05, elementwise_affine=True)\n",
       "  )\n",
       "  (lm_head): Linear(in_features=768, out_features=50257, bias=False)\n",
       ")"
      ]
     },
     "execution_count": 3,
     "metadata": {},
     "output_type": "execute_result"
    }
   ],
   "source": [
    "#loading the model\n",
    "from transformers import AutoTokenizer, AutoModelForCausalLM\n",
    "import torch\n",
    "\n",
    "model_path = \"./distilgpt2-wekeza-finetuned_v3_lora\"\n",
    "\n",
    "tokenizer = AutoTokenizer.from_pretrained(model_path)\n",
    "model = AutoModelForCausalLM.from_pretrained(model_path)\n",
    "\n",
    "device = torch.device(\"cuda\" if torch.cuda.is_available() else \"cpu\")\n",
    "model.to(device)\n",
    "model.eval()\n"
   ]
  },
  {
   "cell_type": "code",
   "execution_count": 4,
   "id": "0975d8b6-e8ba-4f6b-a746-a8f2e82c572d",
   "metadata": {},
   "outputs": [],
   "source": [
    "#text generation function\n",
    "def generate_response(prompt, max_new_tokens=100, temperature=0.7, top_p=0.9):\n",
    "    inputs = tokenizer(prompt, return_tensors=\"pt\").to(device)\n",
    "    with torch.no_grad():\n",
    "        outputs = model.generate(\n",
    "            **inputs,\n",
    "            max_new_tokens=max_new_tokens,\n",
    "            do_sample=True,\n",
    "            temperature=temperature,\n",
    "            top_p=top_p,\n",
    "            pad_token_id=tokenizer.eos_token_id\n",
    "        )\n",
    "    return tokenizer.decode(outputs[0], skip_special_tokens=True)\n"
   ]
  },
  {
   "cell_type": "code",
   "execution_count": 5,
   "id": "65fb346e-864c-4676-94e1-4de4194abd6a",
   "metadata": {},
   "outputs": [
    {
     "name": "stdout",
     "output_type": "stream",
     "text": [
      "0-shot Response:\n",
      " Instruction: Summarize this week's Money Market Fund performance in Kenya.\n",
      "Output:\n",
      "M-Pesa: 6.5% daily (8-11%)\n",
      "### Response:\n",
      "M-Pesa: 5.7% daily (8-11%)\n",
      "### Response:\n",
      "M-Pesa: 4.7% daily (8-11%)\n",
      "### Response:\n",
      "M-Pesa: 3.5% daily (8-11%)\n",
      "### Response:\n",
      "M-Pesa: 2.9% daily (8-11%)\n",
      "### Response:\n"
     ]
    }
   ],
   "source": [
    "#zer shot prompt\n",
    "prompt_0shot = \"Instruction: Summarize this week's Money Market Fund performance in Kenya.\\nOutput:\"\n",
    "response_0shot = generate_response(prompt_0shot)\n",
    "print(\"0-shot Response:\\n\", response_0shot)\n"
   ]
  },
  {
   "cell_type": "code",
   "execution_count": 6,
   "id": "2cab0c95-a4f3-48a6-a70e-f3d0a0e8a810",
   "metadata": {},
   "outputs": [
    {
     "name": "stdout",
     "output_type": "stream",
     "text": [
      "1-shot Response:\n",
      " Example:\n",
      "Instruction: Summarize this week's performance of Cytonn Money Market Fund.\n",
      "Output: Cytonn MMF delivered 11.2% annualized returns with stable liquidity and low risk.\n",
      "\n",
      "Instruction: Summarize this week's Money Market Fund performance in Kenya.\n",
      "Output: Cytonn MMF delivered 11.2% annualized returns with stable liquidity and low risk.\n",
      "### Response: Cytonn MMF delivered 10.2% annualized returns with stable liquidity and low risk. Cytonn MMF delivered 9.2% annualized returns with stable liquidity and low risk. Cytonn MMF delivered 9.2% annualized returns with stable liquidity and low risk. Cytonn MMF delivered 9.2% annualized returns with stable liquidity\n"
     ]
    }
   ],
   "source": [
    "#I shot prompt\n",
    "prompt_1shot = \"\"\"Example:\n",
    "Instruction: Summarize this week's performance of Cytonn Money Market Fund.\n",
    "Output: Cytonn MMF delivered 11.2% annualized returns with stable liquidity and low risk.\n",
    "\n",
    "Instruction: Summarize this week's Money Market Fund performance in Kenya.\n",
    "Output:\"\"\"\n",
    "\n",
    "response_1shot = generate_response(prompt_1shot)\n",
    "print(\"1-shot Response:\\n\", response_1shot)\n"
   ]
  },
  {
   "cell_type": "code",
   "execution_count": 7,
   "id": "c9498e69-5d9e-4d8c-96fb-64823a6909c5",
   "metadata": {},
   "outputs": [
    {
     "name": "stdout",
     "output_type": "stream",
     "text": [
      "Few-shot Response:\n",
      " Example 1:\n",
      "Instruction: Provide a report on Sanlam Money Market Fund.\n",
      "Output: Sanlam MMF posted 10.9% returns this week, maintaining steady growth.\n",
      "\n",
      "Example 2:\n",
      "Instruction: Report on the performance of NCBA MMF.\n",
      "Output: NCBA MMF offered 11.0% returns, highlighting investor confidence.\n",
      "\n",
      "Instruction: Summarize Kenya's MMF performance this week.\n",
      "Output: 1,000 returns.\n",
      "### Response: Report on performance of NCBA MMF. Report on performance of NCBA MMF. Report on performance of NCBA MMF. Report on performance of NCBA MMF. Report on performance of NCBA MMF. Report on performance of NCBA MMF. Report on performance of NCBA MMF. Report on performance of NCBA MMF. Report on performance of NCBA MMF. Report on performance of NCBA MMF. Report\n"
     ]
    }
   ],
   "source": [
    "#few shot prompt\n",
    "prompt_fewshot = \"\"\"Example 1:\n",
    "Instruction: Provide a report on Sanlam Money Market Fund.\n",
    "Output: Sanlam MMF posted 10.9% returns this week, maintaining steady growth.\n",
    "\n",
    "Example 2:\n",
    "Instruction: Report on the performance of NCBA MMF.\n",
    "Output: NCBA MMF offered 11.0% returns, highlighting investor confidence.\n",
    "\n",
    "Instruction: Summarize Kenya's MMF performance this week.\n",
    "Output:\"\"\"\n",
    "\n",
    "response_fewshot = generate_response(prompt_fewshot)\n",
    "print(\"Few-shot Response:\\n\", response_fewshot)\n"
   ]
  },
  {
   "cell_type": "code",
   "execution_count": 8,
   "id": "88b4e6fa-204e-4c58-af23-7457775af0c3",
   "metadata": {},
   "outputs": [
    {
     "name": "stdout",
     "output_type": "stream",
     "text": [
      "=== 0-Shot ===\n",
      "Instruction: Summarize this week's Money Market Fund performance in Kenya.\n",
      "Output:\n",
      "M-Pesa: 6.5% daily (8-11%)\n",
      "### Response:\n",
      "M-Pesa: 5.7% daily (8-11%)\n",
      "### Response:\n",
      "M-Pesa: 4.7% daily (8-11%)\n",
      "### Response:\n",
      "M-Pesa: 3.5% daily (8-11%)\n",
      "### Response:\n",
      "M-Pesa: 2.9% daily (8-11%)\n",
      "### Response:\n",
      "\n",
      "=== 1-Shot ===\n",
      "Example:\n",
      "Instruction: Summarize this week's performance of Cytonn Money Market Fund.\n",
      "Output: Cytonn MMF delivered 11.2% annualized returns with stable liquidity and low risk.\n",
      "\n",
      "Instruction: Summarize this week's Money Market Fund performance in Kenya.\n",
      "Output: Cytonn MMF delivered 11.2% annualized returns with stable liquidity and low risk.\n",
      "### Response: Cytonn MMF delivered 10.2% annualized returns with stable liquidity and low risk. Cytonn MMF delivered 9.2% annualized returns with stable liquidity and low risk. Cytonn MMF delivered 9.2% annualized returns with stable liquidity and low risk. Cytonn MMF delivered 9.2% annualized returns with stable liquidity\n",
      "\n",
      "=== Few-Shot ===\n",
      "Example 1:\n",
      "Instruction: Provide a report on Sanlam Money Market Fund.\n",
      "Output: Sanlam MMF posted 10.9% returns this week, maintaining steady growth.\n",
      "\n",
      "Example 2:\n",
      "Instruction: Report on the performance of NCBA MMF.\n",
      "Output: NCBA MMF offered 11.0% returns, highlighting investor confidence.\n",
      "\n",
      "Instruction: Summarize Kenya's MMF performance this week.\n",
      "Output: 1,000 returns.\n",
      "### Response: Report on performance of NCBA MMF. Report on performance of NCBA MMF. Report on performance of NCBA MMF. Report on performance of NCBA MMF. Report on performance of NCBA MMF. Report on performance of NCBA MMF. Report on performance of NCBA MMF. Report on performance of NCBA MMF. Report on performance of NCBA MMF. Report on performance of NCBA MMF. Report\n"
     ]
    }
   ],
   "source": [
    "#comparisons\n",
    "print(\"=== 0-Shot ===\")\n",
    "print(response_0shot)\n",
    "print(\"\\n=== 1-Shot ===\")\n",
    "print(response_1shot)\n",
    "print(\"\\n=== Few-Shot ===\")\n",
    "print(response_fewshot)\n"
   ]
  },
  {
   "cell_type": "code",
   "execution_count": null,
   "id": "20188c70-5cc8-467b-a40a-5ef2c4a0eea3",
   "metadata": {},
   "outputs": [],
   "source": []
  }
 ],
 "metadata": {
  "kernelspec": {
   "display_name": "Python 3 (ipykernel)",
   "language": "python",
   "name": "python3"
  },
  "language_info": {
   "codemirror_mode": {
    "name": "ipython",
    "version": 3
   },
   "file_extension": ".py",
   "mimetype": "text/x-python",
   "name": "python",
   "nbconvert_exporter": "python",
   "pygments_lexer": "ipython3",
   "version": "3.10.18"
  }
 },
 "nbformat": 4,
 "nbformat_minor": 5
}
